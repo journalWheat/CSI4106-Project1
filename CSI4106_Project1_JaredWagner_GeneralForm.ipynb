{
  "nbformat": 4,
  "nbformat_minor": 0,
  "metadata": {
    "colab": {
      "provenance": [],
      "collapsed_sections": [],
      "authorship_tag": "ABX9TyOYQMegfXWY0afi/j6vudI7",
      "include_colab_link": true
    },
    "kernelspec": {
      "name": "python3",
      "display_name": "Python 3"
    },
    "language_info": {
      "name": "python"
    }
  },
  "cells": [
    {
      "cell_type": "markdown",
      "metadata": {
        "id": "view-in-github",
        "colab_type": "text"
      },
      "source": [
        "<a href=\"https://colab.research.google.com/github/journalWheat/CSI4106-Project1/blob/main/CSI4106_Project1_JaredWagner_GeneralForm.ipynb\" target=\"_parent\"><img src=\"https://colab.research.google.com/assets/colab-badge.svg\" alt=\"Open In Colab\"/></a>"
      ]
    },
    {
      "cell_type": "markdown",
      "source": [
        "#**Title: Predicting the colour of a wine using Naive Bayes, Logistic Regression, and Multi-Layer Perceptron learning algorithms**\n",
        "\n",
        "##**GROUP 97**\n",
        "####Intellectual property of JARED WAGNER (Student \\#300010832), Fall 2022.\n",
        "####Submitted for CSI4106, Introduction to Artificial Intelligence. "
      ],
      "metadata": {
        "id": "OEqupfm_3lxh"
      }
    },
    {
      "cell_type": "markdown",
      "source": [
        "#**Section 1: Introduction and goals**\n",
        "-----\n",
        "##An ode to wine\n",
        "```\n",
        "Hey come lets scatter flowers around,\n",
        "and fill the chalice up with wine.\n",
        "We'll crack the heavens' vault in half,\n",
        "and hew a wholly new design. \n",
        "(Excerpt from 'Wine, Humans and Song,' translated from medieval Persian poet Hafez.)\n",
        "``` \n",
        "([Source](http://poemsintranslation.blogspot.com/2015/07/hafiz-ghazal-367-human-wine-and-song.html?m=1)) + ([Info on Hafez](https://en.wikipedia.org/wiki/Hafez))\n",
        "\n",
        "Wine, dear wine:\n",
        "\n",
        "You have profoundly impacted the world. Though many people abstain from you, those who partake in consuming you become mind-bent by your company. Sommeliers might be the most mind-bent of us, specializing in combining their senses with their knowledge about wine's history to make appropriately fancy recommendations: what wine to pair with your salmon or your steak, what wine to bring to a house party, what wine to bring on a first date, and so on and so forth.\n",
        "\n",
        "This is not a new phenomenon. The first evidence of grape wine production dates to 6100 years ago in an Armenian cave ([Source](https://www.decanter.com/wine-news/armenian-find-is-world-s-oldest-winery-42433/)). Dating back even further, anywhere from 9000 to 11000 years ago, there is evidence of a grape and rice wine being produced in China ([Source](https://www.sciencedirect.com/science/article/pii/S2212977418300619?via%3Dihub)). Perhaps humans' historied fixation upon wine is why in March 2020, a disputed story went viral across social media that claimed a group of elephants had broken into a village in China, \"drinking 30kg of corn wine [before] they fell asleep in a nearby tea garden.\" ([Source](https://www.wusa9.com/article/news/verify/verify-did-elephants-get-drunk-on-corn-wine-while-humans-were-social-distancing/507-0c48ef63-33ec-478f-be6a-4ebdeb4b0299#:~:text=The%20tweet%20claimed%20the%20elephants,every%20instance%20of%20this%20post.))\n",
        "\n",
        "Sommeliers with the most sensitive olfactory senses go on to write wine manuals (or so the story goes). These textbooks outline the expected characteristics of a feisty Australian Shiraz vs. a fruitful French Pinot Noir; a vitage from 1980 vs. the same wine produced just last year. Many of these manuals even compare wines from different regions within a country, or sub-regions within a province, state, or territory. If your Chianti didn't come from the Chianti region of Tuscany, Italy, you may be entitled to compensation as part of a class action lawsuit. \n",
        "\n",
        "That was a joke, but some regions like Italy, France, and even Ontario have strict regulations for wine manufacture and labelling. In-order, these are called the DOP, AOC, and VQA standards. This is to be expected, given that the wine industry is a highly profitable sector: in 2019, the Canadian wine industry alone was valued at $11.57 billion dollars. ([source](https://www.winegrowerscanada.ca/our-industry/economic-impact/))\n",
        "\n",
        "-----\n",
        "##Data and goals\n",
        "The dataset used in this analysis contains samples of various Viho Verde style wines from Portugal (famous origin of \"port\" style wines), first published in 2009. The data was taken from Kaggle, where it had been shared from the UCI Machine Learning Repository.\n",
        "\n",
        "This dataset is purportedly intended for models that would rank the wines, since there is an attached 'quality' metric for each sample. However, after seeing that each wine was also categorized by 'type' ('red'/'white'), this brought to mind an infamous study from 2001 ([source](http://www.daysyn.com/Morrot.pdf)) where 54 students training to become sommeliers were fooled by experimentors who had dyed white wine red. Consequently, the students described the \"red white wine\" as they would a red wine, even though they had previously described the same white wines entirely differently with \"white wine\" characteristics. Very few of the students consistently described the wine after it had been dyed, leading the researchers to suggest that the visual appearance of wine had a large affect on the participants' other senses (various news agencies were less charitable. In 2014, Gizmodo published an article \"Wine tasting is bullshit. Here's why.\" ([Source](https://gizmodo.com/wine-tasting-is-bullshit-heres-why-496098276)) which cited the study to prove that \"expert wine critics can't distinguish between red and white wines\").\n",
        "\n",
        "###The spurring of a question\n",
        "Although the primary goal of this report's analysis is to compare the relative strengths of pitfalls associated with Naive Bayes, Logistic, and Multi-Layer Perceptron models, this story with the sommeliers leads to my personal tongue-in-cheek question: \"can a computer guess whether a wine is red or white better than a a sommelier?\" \n",
        "\n",
        "To answer this question, I will design three binary classification models using the aforementioned algorithms to determine whether a wine is 'white' or 'red' from the given features in the data set. From these models, I will:\n",
        "- Compare and contrast the effectiveness of each model for this task.\n",
        "- Explore these models with a hands-on approach.\n",
        "- Compare the sommeliers' performance to \"a computer's\" performance, i.e. my models.\n",
        "\n",
        "###Applications\n",
        "The question \"can a computer guess whether a wine is red or white better than a sommelier,\" although humorous, has a real-world value. On its face it has entertainment value (otherwise no articles would be written about it), but looking closer it also conjours up questions about wine curation as a profession. If a computer can be a \"virtual sommelier,\" then one can think of all kinds of applications for that. Exploring one example, imagine filling out a questionnaire from an app on your phone about your wine preferences, and then zap! Your phone returns a list of 10 wines it thinks that you will enjoy. No hiring a specialist, no wasting time, you know exactly what you want after 2 minutes with the app. \n",
        "\n",
        "Of course the results of this experiment do not *directly* fit into that example, but the models designed here could be components of that application. For example, if these models characterize a white wine as a red, then this could be a clue that this \"white\" wine has a red-like flavor profile that will not be appreciated as much by a person who does not like red wine."
      ],
      "metadata": {
        "id": "hqOUslBowI-U"
      }
    },
    {
      "cell_type": "markdown",
      "source": [
        "#**Section 2: Analyzing the data**\n",
        "-----\n",
        "In this section, the wine dataset is loaded"
      ],
      "metadata": {
        "id": "NDuHWmzlHo1N"
      }
    },
    {
      "cell_type": "markdown",
      "source": [
        "---- \n",
        "#BREAK: EVERYTHING BELOW MUST BE REFRACTORED\n",
        "----"
      ],
      "metadata": {
        "id": "xcgS4YFWv39w"
      }
    },
    {
      "cell_type": "code",
      "source": [
        "# setup for the project\n",
        "import pandas as pd\n",
        "import matplotlib.pyplot as plt\n",
        "import seaborn as sns\n",
        "import numpy as np\n",
        "\n",
        "#data source: https://www.kaggle.com/datasets/rajyellow46/wine-quality\n",
        "df_location = 'https://raw.githubusercontent.com/journalWheat/CSI4106-Project1/main/winequalityN.csv' \n",
        "sample_location = 'https://raw.githubusercontent.com/journalWheat/CSI4106-Project1/main/sample.csv'\n",
        "target = 'type'\n",
        "\n",
        "raw_df = pd.read_csv(df_location).dropna().sample(n=len(pd.read_csv(df_location).dropna()),random_state=1)\n",
        "med_sample_df = raw_df[100:601].copy() # sample of 500\n",
        "small_sample_df = raw_df[:100].copy() # sample of 100"
      ],
      "metadata": {
        "id": "6CcC9Qjw3_XR"
      },
      "execution_count": 1,
      "outputs": []
    },
    {
      "cell_type": "markdown",
      "source": [
        "# Analyzing the data\n",
        "\n",
        "The dataset used for this report was provided through Kaggle: https://www.kaggle.com/datasets/yasserh/wine-quality-dataset\n",
        "\n",
        "This dataset has 6463 samples and 12 features. This is a binary classification task, because I will use this data to classify wines as 'red' or 'white.'\n",
        "\n",
        "From the statistics below, there are no rows with missing values in this data set (since the count for each feature is equal to the count of the target)."
      ],
      "metadata": {
        "id": "tCtqvMjWCbZp"
      }
    },
    {
      "cell_type": "code",
      "source": [
        "# get some statistics\n",
        "print(raw_df.isnull().sum())\n",
        "print(raw_df.describe())"
      ],
      "metadata": {
        "id": "LJcBBIJmDbql",
        "colab": {
          "base_uri": "https://localhost:8080/"
        },
        "outputId": "d2de401e-5494-4cbb-c316-6e69bb574240"
      },
      "execution_count": 2,
      "outputs": [
        {
          "output_type": "stream",
          "name": "stdout",
          "text": [
            "type                    0\n",
            "fixed acidity           0\n",
            "volatile acidity        0\n",
            "citric acid             0\n",
            "residual sugar          0\n",
            "chlorides               0\n",
            "free sulfur dioxide     0\n",
            "total sulfur dioxide    0\n",
            "density                 0\n",
            "pH                      0\n",
            "sulphates               0\n",
            "alcohol                 0\n",
            "quality                 0\n",
            "dtype: int64\n",
            "       fixed acidity  volatile acidity  citric acid  residual sugar  \\\n",
            "count    6463.000000       6463.000000  6463.000000     6463.000000   \n",
            "mean        7.217755          0.339589     0.318758        5.443958   \n",
            "std         1.297913          0.164639     0.145252        4.756852   \n",
            "min         3.800000          0.080000     0.000000        0.600000   \n",
            "25%         6.400000          0.230000     0.250000        1.800000   \n",
            "50%         7.000000          0.290000     0.310000        3.000000   \n",
            "75%         7.700000          0.400000     0.390000        8.100000   \n",
            "max        15.900000          1.580000     1.660000       65.800000   \n",
            "\n",
            "         chlorides  free sulfur dioxide  total sulfur dioxide      density  \\\n",
            "count  6463.000000          6463.000000           6463.000000  6463.000000   \n",
            "mean      0.056056            30.516865            115.694492     0.994698   \n",
            "std       0.035076            17.758815             56.526736     0.003001   \n",
            "min       0.009000             1.000000              6.000000     0.987110   \n",
            "25%       0.038000            17.000000             77.000000     0.992330   \n",
            "50%       0.047000            29.000000            118.000000     0.994890   \n",
            "75%       0.065000            41.000000            156.000000     0.997000   \n",
            "max       0.611000           289.000000            440.000000     1.038980   \n",
            "\n",
            "                pH    sulphates      alcohol      quality  \n",
            "count  6463.000000  6463.000000  6463.000000  6463.000000  \n",
            "mean      3.218332     0.531150    10.492825     5.818505  \n",
            "std       0.160650     0.148913     1.193128     0.873286  \n",
            "min       2.720000     0.220000     8.000000     3.000000  \n",
            "25%       3.110000     0.430000     9.500000     5.000000  \n",
            "50%       3.210000     0.510000    10.300000     6.000000  \n",
            "75%       3.320000     0.600000    11.300000     6.000000  \n",
            "max       4.010000     2.000000    14.900000     9.000000  \n"
          ]
        }
      ]
    },
    {
      "cell_type": "code",
      "source": [
        "# plot histograms to see distributions of data\n",
        "for column in raw_df:\n",
        "  plt.hist(raw_df[column])\n",
        "  plt.xlabel('Buckets')\n",
        "  plt.ylabel('Number in range')\n",
        "  plt.title(column + ' distribution')\n",
        "  plt.show()"
      ],
      "metadata": {
        "id": "BO8pG3fKDhfP",
        "colab": {
          "base_uri": "https://localhost:8080/",
          "height": 1000
        },
        "outputId": "282ed927-586a-434a-9cd0-a330bae4ddc0"
      },
      "execution_count": 3,
      "outputs": [
        {
          "output_type": "display_data",
          "data": {
            "text/plain": [
              "<Figure size 432x288 with 1 Axes>"
            ],
            "image/png": "[encoded data removed]"
          },
          "metadata": {
            "needs_background": "light"
          }
        },
        {
          "output_type": "display_data",
          "data": {
            "text/plain": [
              "<Figure size 432x288 with 1 Axes>"
            ],
            "image/png": "[encoded data removed]"
          },
          "metadata": {
            "needs_background": "light"
          }
        },
        {
          "output_type": "display_data",
          "data": {
            "text/plain": [
              "<Figure size 432x288 with 1 Axes>"
            ],
            "image/png": "[encoded data removed]"
          },
          "metadata": {
            "needs_background": "light"
          }
        },
        {
          "output_type": "display_data",
          "data": {
            "text/plain": [
              "<Figure size 432x288 with 1 Axes>"
            ],
            "image/png": "[encoded data removed]"
          },
          "metadata": {
            "needs_background": "light"
          }
        },
        {
          "output_type": "display_data",
          "data": {
            "text/plain": [
              "<Figure size 432x288 with 1 Axes>"
            ],
            "image/png": "[encoded data removed]"
          },
          "metadata": {
            "needs_background": "light"
          }
        },
        {
          "output_type": "display_data",
          "data": {
            "text/plain": [
              "<Figure size 432x288 with 1 Axes>"
            ],
            "image/png": "[encoded data removed]"
          },
          "metadata": {
            "needs_background": "light"
          }
        },
        {
          "output_type": "display_data",
          "data": {
            "text/plain": [
              "<Figure size 432x288 with 1 Axes>"
            ],
            "image/png": "[encoded data removed]"
          },
          "metadata": {
            "needs_background": "light"
          }
        },
        {
          "output_type": "display_data",
          "data": {
            "text/plain": [
              "<Figure size 432x288 with 1 Axes>"
            ],
            "image/png": "[encoded data removed]"
          },
          "metadata": {
            "needs_background": "light"
          }
        },
        {
          "output_type": "display_data",
          "data": {
            "text/plain": [
              "<Figure size 432x288 with 1 Axes>"
            ],
            "image/png": "[encoded data removed]"
          },
          "metadata": {
            "needs_background": "light"
          }
        },
        {
          "output_type": "display_data",
          "data": {
            "text/plain": [
              "<Figure size 432x288 with 1 Axes>"
            ],
            "image/png": "[encoded data removed]"
          },
          "metadata": {
            "needs_background": "light"
          }
        },
        {
          "output_type": "display_data",
          "data": {
            "text/plain": [
              "<Figure size 432x288 with 1 Axes>"
            ],
            "image/png": "[encoded data removed]"
          },
          "metadata": {
            "needs_background": "light"
          }
        },
        {
          "output_type": "display_data",
          "data": {
            "text/plain": [
              "<Figure size 432x288 with 1 Axes>"
            ],
            "image/png": "[encoded data removed]"
          },
          "metadata": {
            "needs_background": "light"
          }
        },
        {
          "output_type": "display_data",
          "data": {
            "text/plain": [
              "<Figure size 432x288 with 1 Axes>"
            ],
            "image/png": "[encoded data removed]"
          },
          "metadata": {
            "needs_background": "light"
          }
        }
      ]
    },
    {
      "cell_type": "markdown",
      "source": [
        "At a glance, these plots look good. There is a mix of features with relatively normal and non-normal distribution, which may help classify samples from the dataset."
      ],
      "metadata": {
        "id": "l-B1kUiKDKyw"
      }
    },
    {
      "cell_type": "markdown",
      "source": [
        "This seems like a more reasonable classification system for the wines, given the limited number of samples available."
      ],
      "metadata": {
        "id": "O2gg4WFxMmMP"
      }
    },
    {
      "cell_type": "markdown",
      "source": [
        "# Feature engineering\n",
        "## Strategizing feature selection\n",
        "\n",
        "The features provided in the dataset look promising, but to get an idea of whether they are actually usable I construct a scatterplot matrix."
      ],
      "metadata": {
        "id": "JrlWlbnkC-QU"
      }
    },
    {
      "cell_type": "code",
      "source": [
        "# This code simply prints a scatterplot matrix for the features in a small sample of the data\n",
        "\n",
        "#sns.set_theme(style='ticks')\n",
        "#sns.pairplot(small_sample_df,hue=target)"
      ],
      "metadata": {
        "id": "9H7j7e0LDhhf"
      },
      "execution_count": 4,
      "outputs": []
    },
    {
      "cell_type": "markdown",
      "source": [
        "From the scatterplot matrix, my first observation is that the data *is* separable using the class 'type.' There exist multiple plots where the two classes of wine seem to be separable by a line. This is important, because it means that the classes are probably learnable by an algorithm. However, simply selecting features from these scatterplots would be a naive approach because:\n",
        "1. I can't tell which features are most important from the plots.\n",
        "2. Feature selection should normally be catered to the models under consideration, and the models I will be building have unique strengths and weaknesses.\n",
        "3. Some feature graphs are difficult to interpret, such as any of the plots with 'quality' as a metric.\n",
        "\n",
        "Therefore, instead of relying on graph interpretation I choose three different analytical approaches for each training run:\n",
        "\n",
        "- **First run:** feature selection using relative mutual information scores assigned to each feature using scikit-learn.feature_selection.mutual_info_classif(). This is a \"naive approach,\" in the sense that the *number* of features I use will be arbitrary.\n",
        "- **Second run:** recursive feature elimination, where features with the weakest predictive power are sequentially removed from a model.\n",
        "- **Third run:** sequential forwards feature selection, where features with the strogest predictive power are sequentially added to a model.\n",
        "\n",
        "These strategies were chosen by consulting the Kaggle Education module on feature engineering, as well as an article provided by Scikit-learn on feature selection. These are included under 'References' at the bottom of the page.\n",
        "\n",
        "There are two main reasons why I selected these strategies. First, all three strategies provide an analytical framework to select features according to their predictive power. Second, they are all \"different\" enough (i.e. they use different underlying fitting models) that they will likely choose different features.\n",
        "\n",
        "For each of these runs, I use a sample dataset of 600 samples which I took when I loaded the raw data. Admittedly: the size of the sample dataset is somewhat arbitrary since I did not check how many samples I would need for statistical significance."
      ],
      "metadata": {
        "id": "DeZ3eTQ9WRvN"
      }
    },
    {
      "cell_type": "markdown",
      "source": [
        "##**First run** feature selection using mutual information scores\n",
        "\n",
        "###Entropy and mutual information\n",
        "Theory from: https://www.youtube.com/watch?v=YtebGVx-Fxw\n",
        "\n",
        "To start with, I will use a feature utility metric to measure how strongly associated each feature is with the target variable."
      ],
      "metadata": {
        "id": "Zse1GZAoOULZ"
      }
    },
    {
      "cell_type": "code",
      "source": [
        "# NOTICE: this code is from: https://www.kaggle.com/code/ryanholbrook/mutual-information\n",
        "X = small_sample_df.copy()\n",
        "y = X.pop(target)\n",
        "\n",
        "# Label encoding for categoricals\n",
        "for colname in X.select_dtypes(\"object\"):\n",
        "    X[colname], _ = X[colname].factorize()\n",
        "\n",
        "# All discrete features should now have integer dtypes (double-check this before using MI!)\n",
        "discrete_features = X.dtypes == int\n",
        "\n",
        "####################\n",
        "\n",
        "from sklearn.feature_selection import mutual_info_classif\n",
        "\n",
        "def make_mi_scores(X, y, discrete_features):\n",
        "    mi_scores = mutual_info_classif(X, y, discrete_features=discrete_features)\n",
        "    mi_scores = pd.Series(mi_scores, name=\"MI Scores\", index=X.columns)\n",
        "    mi_scores = mi_scores.sort_values(ascending=False)\n",
        "    return mi_scores\n",
        "\n",
        "mi_scores = make_mi_scores(X, y, discrete_features)\n",
        "mi_scores[::3]  # show a few features with their MI scores\n",
        "\n",
        "####Display\n",
        "def plot_mi_scores(scores):\n",
        "    scores = scores.sort_values(ascending=True)\n",
        "    width = np.arange(len(scores))\n",
        "    ticks = list(scores.index)\n",
        "    plt.barh(width, scores)\n",
        "    plt.yticks(width, ticks)\n",
        "    plt.title(\"Mutual Information Scores\")\n",
        "\n",
        "\n",
        "plt.figure(dpi=100, figsize=(8, 5))\n",
        "plot_mi_scores(mi_scores)"
      ],
      "metadata": {
        "id": "tzYE_b4KeY5Z",
        "colab": {
          "base_uri": "https://localhost:8080/",
          "height": 460
        },
        "outputId": "ab9bf66c-51bd-402a-a343-78a421e7977b"
      },
      "execution_count": 5,
      "outputs": [
        {
          "output_type": "display_data",
          "data": {
            "text/plain": [
              "<Figure size 800x500 with 1 Axes>"
            ],
            "image/png": "[encoded data removed]"
          },
          "metadata": {
            "needs_background": "light"
          }
        }
      ]
    },
    {
      "cell_type": "markdown",
      "source": [
        "###Interpretation\n",
        "From the bar graph, the top 4 ranked features are:\n",
        "- total sulfur dioxide\n",
        "- chlorides\n",
        "- volatile acidity\n",
        "- residual sugar"
      ],
      "metadata": {
        "id": "YCqzCZbzOcf2"
      }
    },
    {
      "cell_type": "code",
      "source": [
        "first_run_features = {'total sulfur dioxide','chlorides','volatile acidity','residual sugar'}"
      ],
      "metadata": {
        "id": "aozrxG-V3Bu6"
      },
      "execution_count": 6,
      "outputs": []
    },
    {
      "cell_type": "markdown",
      "source": [
        "##**Second run** feature selection using recursive feature elimination\n",
        "\n",
        "Recursive Feature Elimination works by fitting a model using all features, removing the least useful feature, and then repeating the process until a desired number of features are left. Since four features were selected in the previous section, I will also select four using this technique.\n",
        "\n",
        "One drawback to this method for my application (fitting three different models) is that RFE optimizes feature selection to the underlying model. Since I will be using a Decision Tree Classifier as the underlying model, that means the features I select will not necessarily be the optimal features for the models I will train later."
      ],
      "metadata": {
        "id": "kBkxI2HeeZFF"
      }
    },
    {
      "cell_type": "code",
      "source": [
        "# NOTICE: first, I had tried to use this code: https://www.kaggle.com/code/carlmcbrideellis/recursive-feature-elimination-rfe-example/notebook\n",
        "# NOTICE: this source was also consulted on RFE: https://machinelearningmastery.com/rfe-feature-selection-in-python/\n",
        "# NOTICE: last, I took some code from https://www.youtube.com/watch?v=vxdVKbAv6as\n",
        "import sklearn\n",
        "from sklearn.feature_selection import RFE\n",
        "from sklearn.tree import DecisionTreeClassifier\n",
        "df = small_sample_df.copy()\n",
        "\n",
        "# inputs\n",
        "X = df.drop(columns=[target], axis=1)\n",
        "y = df[target]\n",
        "# outputs\n",
        "\n",
        "# define RFE\n",
        "rfe = RFE(estimator=DecisionTreeClassifier(), n_features_to_select=4)\n",
        "\n",
        "#fit the model\n",
        "rfe.fit(X, y)\n",
        "\n",
        "for i, col in zip(range(X.shape[1]), X.columns):\n",
        "  print(f\"{col} selected={rfe.support_[i]} rank={rfe.ranking_[i]}\")"
      ],
      "metadata": {
        "id": "i8_f8lbscxGM",
        "colab": {
          "base_uri": "https://localhost:8080/",
          "height": 396
        },
        "outputId": "b9449d38-9c06-45ea-c797-d9037d652602"
      },
      "execution_count": 7,
      "outputs": [
        {
          "output_type": "error",
          "ename": "ValueError",
          "evalue": "ignored",
          "traceback": [
            "\u001b[0;31m---------------------------------------------------------------------------\u001b[0m",
            "\u001b[0;31mValueError\u001b[0m                                Traceback (most recent call last)",
            "\u001b[0;32m<ipython-input-7-283d1092608c>\u001b[0m in \u001b[0;36m<module>\u001b[0;34m\u001b[0m\n\u001b[1;32m     16\u001b[0m \u001b[0;34m\u001b[0m\u001b[0m\n\u001b[1;32m     17\u001b[0m \u001b[0;31m#fit the model\u001b[0m\u001b[0;34m\u001b[0m\u001b[0;34m\u001b[0m\u001b[0;34m\u001b[0m\u001b[0m\n\u001b[0;32m---> 18\u001b[0;31m \u001b[0mrfe\u001b[0m\u001b[0;34m.\u001b[0m\u001b[0mfit\u001b[0m\u001b[0;34m(\u001b[0m\u001b[0mX\u001b[0m\u001b[0;34m,\u001b[0m \u001b[0my\u001b[0m\u001b[0;34m)\u001b[0m\u001b[0;34m\u001b[0m\u001b[0;34m\u001b[0m\u001b[0m\n\u001b[0m\u001b[1;32m     19\u001b[0m \u001b[0;34m\u001b[0m\u001b[0m\n\u001b[1;32m     20\u001b[0m \u001b[0;32mfor\u001b[0m \u001b[0mi\u001b[0m\u001b[0;34m,\u001b[0m \u001b[0mcol\u001b[0m \u001b[0;32min\u001b[0m \u001b[0mzip\u001b[0m\u001b[0;34m(\u001b[0m\u001b[0mrange\u001b[0m\u001b[0;34m(\u001b[0m\u001b[0mX\u001b[0m\u001b[0;34m.\u001b[0m\u001b[0mshape\u001b[0m\u001b[0;34m[\u001b[0m\u001b[0;36m1\u001b[0m\u001b[0;34m]\u001b[0m\u001b[0;34m)\u001b[0m\u001b[0;34m,\u001b[0m \u001b[0mX\u001b[0m\u001b[0;34m.\u001b[0m\u001b[0mcolumns\u001b[0m\u001b[0;34m)\u001b[0m\u001b[0;34m:\u001b[0m\u001b[0;34m\u001b[0m\u001b[0;34m\u001b[0m\u001b[0m\n",
            "\u001b[0;32m/usr/local/lib/python3.7/dist-packages/sklearn/feature_selection/_rfe.py\u001b[0m in \u001b[0;36mfit\u001b[0;34m(self, X, y, **fit_params)\u001b[0m\n\u001b[1;32m    220\u001b[0m             \u001b[0mFitted\u001b[0m \u001b[0mestimator\u001b[0m\u001b[0;34m.\u001b[0m\u001b[0;34m\u001b[0m\u001b[0;34m\u001b[0m\u001b[0m\n\u001b[1;32m    221\u001b[0m         \"\"\"\n\u001b[0;32m--> 222\u001b[0;31m         \u001b[0;32mreturn\u001b[0m \u001b[0mself\u001b[0m\u001b[0;34m.\u001b[0m\u001b[0m_fit\u001b[0m\u001b[0;34m(\u001b[0m\u001b[0mX\u001b[0m\u001b[0;34m,\u001b[0m \u001b[0my\u001b[0m\u001b[0;34m,\u001b[0m \u001b[0;34m**\u001b[0m\u001b[0mfit_params\u001b[0m\u001b[0;34m)\u001b[0m\u001b[0;34m\u001b[0m\u001b[0;34m\u001b[0m\u001b[0m\n\u001b[0m\u001b[1;32m    223\u001b[0m \u001b[0;34m\u001b[0m\u001b[0m\n\u001b[1;32m    224\u001b[0m     \u001b[0;32mdef\u001b[0m \u001b[0m_fit\u001b[0m\u001b[0;34m(\u001b[0m\u001b[0mself\u001b[0m\u001b[0;34m,\u001b[0m \u001b[0mX\u001b[0m\u001b[0;34m,\u001b[0m \u001b[0my\u001b[0m\u001b[0;34m,\u001b[0m \u001b[0mstep_score\u001b[0m\u001b[0;34m=\u001b[0m\u001b[0;32mNone\u001b[0m\u001b[0;34m,\u001b[0m \u001b[0;34m**\u001b[0m\u001b[0mfit_params\u001b[0m\u001b[0;34m)\u001b[0m\u001b[0;34m:\u001b[0m\u001b[0;34m\u001b[0m\u001b[0;34m\u001b[0m\u001b[0m\n",
            "\u001b[0;32m/usr/local/lib/python3.7/dist-packages/sklearn/feature_selection/_rfe.py\u001b[0m in \u001b[0;36m_fit\u001b[0;34m(self, X, y, step_score, **fit_params)\u001b[0m\n\u001b[1;32m    235\u001b[0m             \u001b[0mensure_min_features\u001b[0m\u001b[0;34m=\u001b[0m\u001b[0;36m2\u001b[0m\u001b[0;34m,\u001b[0m\u001b[0;34m\u001b[0m\u001b[0;34m\u001b[0m\u001b[0m\n\u001b[1;32m    236\u001b[0m             \u001b[0mforce_all_finite\u001b[0m\u001b[0;34m=\u001b[0m\u001b[0;32mnot\u001b[0m \u001b[0mtags\u001b[0m\u001b[0;34m.\u001b[0m\u001b[0mget\u001b[0m\u001b[0;34m(\u001b[0m\u001b[0;34m\"allow_nan\"\u001b[0m\u001b[0;34m,\u001b[0m \u001b[0;32mTrue\u001b[0m\u001b[0;34m)\u001b[0m\u001b[0;34m,\u001b[0m\u001b[0;34m\u001b[0m\u001b[0;34m\u001b[0m\u001b[0m\n\u001b[0;32m--> 237\u001b[0;31m             \u001b[0mmulti_output\u001b[0m\u001b[0;34m=\u001b[0m\u001b[0;32mTrue\u001b[0m\u001b[0;34m,\u001b[0m\u001b[0;34m\u001b[0m\u001b[0;34m\u001b[0m\u001b[0m\n\u001b[0m\u001b[1;32m    238\u001b[0m         )\n\u001b[1;32m    239\u001b[0m         error_msg = (\n",
            "\u001b[0;32m/usr/local/lib/python3.7/dist-packages/sklearn/base.py\u001b[0m in \u001b[0;36m_validate_data\u001b[0;34m(self, X, y, reset, validate_separately, **check_params)\u001b[0m\n\u001b[1;32m    579\u001b[0m                 \u001b[0my\u001b[0m \u001b[0;34m=\u001b[0m \u001b[0mcheck_array\u001b[0m\u001b[0;34m(\u001b[0m\u001b[0my\u001b[0m\u001b[0;34m,\u001b[0m \u001b[0;34m**\u001b[0m\u001b[0mcheck_y_params\u001b[0m\u001b[0;34m)\u001b[0m\u001b[0;34m\u001b[0m\u001b[0;34m\u001b[0m\u001b[0m\n\u001b[1;32m    580\u001b[0m             \u001b[0;32melse\u001b[0m\u001b[0;34m:\u001b[0m\u001b[0;34m\u001b[0m\u001b[0;34m\u001b[0m\u001b[0m\n\u001b[0;32m--> 581\u001b[0;31m                 \u001b[0mX\u001b[0m\u001b[0;34m,\u001b[0m \u001b[0my\u001b[0m \u001b[0;34m=\u001b[0m \u001b[0mcheck_X_y\u001b[0m\u001b[0;34m(\u001b[0m\u001b[0mX\u001b[0m\u001b[0;34m,\u001b[0m \u001b[0my\u001b[0m\u001b[0;34m,\u001b[0m \u001b[0;34m**\u001b[0m\u001b[0mcheck_params\u001b[0m\u001b[0;34m)\u001b[0m\u001b[0;34m\u001b[0m\u001b[0;34m\u001b[0m\u001b[0m\n\u001b[0m\u001b[1;32m    582\u001b[0m             \u001b[0mout\u001b[0m \u001b[0;34m=\u001b[0m \u001b[0mX\u001b[0m\u001b[0;34m,\u001b[0m \u001b[0my\u001b[0m\u001b[0;34m\u001b[0m\u001b[0;34m\u001b[0m\u001b[0m\n\u001b[1;32m    583\u001b[0m \u001b[0;34m\u001b[0m\u001b[0m\n",
            "\u001b[0;32m/usr/local/lib/python3.7/dist-packages/sklearn/utils/validation.py\u001b[0m in \u001b[0;36mcheck_X_y\u001b[0;34m(X, y, accept_sparse, accept_large_sparse, dtype, order, copy, force_all_finite, ensure_2d, allow_nd, multi_output, ensure_min_samples, ensure_min_features, y_numeric, estimator)\u001b[0m\n\u001b[1;32m    974\u001b[0m         \u001b[0mensure_min_samples\u001b[0m\u001b[0;34m=\u001b[0m\u001b[0mensure_min_samples\u001b[0m\u001b[0;34m,\u001b[0m\u001b[0;34m\u001b[0m\u001b[0;34m\u001b[0m\u001b[0m\n\u001b[1;32m    975\u001b[0m         \u001b[0mensure_min_features\u001b[0m\u001b[0;34m=\u001b[0m\u001b[0mensure_min_features\u001b[0m\u001b[0;34m,\u001b[0m\u001b[0;34m\u001b[0m\u001b[0;34m\u001b[0m\u001b[0m\n\u001b[0;32m--> 976\u001b[0;31m         \u001b[0mestimator\u001b[0m\u001b[0;34m=\u001b[0m\u001b[0mestimator\u001b[0m\u001b[0;34m,\u001b[0m\u001b[0;34m\u001b[0m\u001b[0;34m\u001b[0m\u001b[0m\n\u001b[0m\u001b[1;32m    977\u001b[0m     )\n\u001b[1;32m    978\u001b[0m \u001b[0;34m\u001b[0m\u001b[0m\n",
            "\u001b[0;32m/usr/local/lib/python3.7/dist-packages/sklearn/utils/validation.py\u001b[0m in \u001b[0;36mcheck_array\u001b[0;34m(array, accept_sparse, accept_large_sparse, dtype, order, copy, force_all_finite, ensure_2d, allow_nd, ensure_min_samples, ensure_min_features, estimator)\u001b[0m\n\u001b[1;32m    744\u001b[0m                     \u001b[0marray\u001b[0m \u001b[0;34m=\u001b[0m \u001b[0marray\u001b[0m\u001b[0;34m.\u001b[0m\u001b[0mastype\u001b[0m\u001b[0;34m(\u001b[0m\u001b[0mdtype\u001b[0m\u001b[0;34m,\u001b[0m \u001b[0mcasting\u001b[0m\u001b[0;34m=\u001b[0m\u001b[0;34m\"unsafe\"\u001b[0m\u001b[0;34m,\u001b[0m \u001b[0mcopy\u001b[0m\u001b[0;34m=\u001b[0m\u001b[0;32mFalse\u001b[0m\u001b[0;34m)\u001b[0m\u001b[0;34m\u001b[0m\u001b[0;34m\u001b[0m\u001b[0m\n\u001b[1;32m    745\u001b[0m                 \u001b[0;32melse\u001b[0m\u001b[0;34m:\u001b[0m\u001b[0;34m\u001b[0m\u001b[0;34m\u001b[0m\u001b[0m\n\u001b[0;32m--> 746\u001b[0;31m                     \u001b[0marray\u001b[0m \u001b[0;34m=\u001b[0m \u001b[0mnp\u001b[0m\u001b[0;34m.\u001b[0m\u001b[0masarray\u001b[0m\u001b[0;34m(\u001b[0m\u001b[0marray\u001b[0m\u001b[0;34m,\u001b[0m \u001b[0morder\u001b[0m\u001b[0;34m=\u001b[0m\u001b[0morder\u001b[0m\u001b[0;34m,\u001b[0m \u001b[0mdtype\u001b[0m\u001b[0;34m=\u001b[0m\u001b[0mdtype\u001b[0m\u001b[0;34m)\u001b[0m\u001b[0;34m\u001b[0m\u001b[0;34m\u001b[0m\u001b[0m\n\u001b[0m\u001b[1;32m    747\u001b[0m             \u001b[0;32mexcept\u001b[0m \u001b[0mComplexWarning\u001b[0m \u001b[0;32mas\u001b[0m \u001b[0mcomplex_warning\u001b[0m\u001b[0;34m:\u001b[0m\u001b[0;34m\u001b[0m\u001b[0;34m\u001b[0m\u001b[0m\n\u001b[1;32m    748\u001b[0m                 raise ValueError(\n",
            "\u001b[0;32m/usr/local/lib/python3.7/dist-packages/pandas/core/generic.py\u001b[0m in \u001b[0;36m__array__\u001b[0;34m(self, dtype)\u001b[0m\n\u001b[1;32m   1991\u001b[0m \u001b[0;34m\u001b[0m\u001b[0m\n\u001b[1;32m   1992\u001b[0m     \u001b[0;32mdef\u001b[0m \u001b[0m__array__\u001b[0m\u001b[0;34m(\u001b[0m\u001b[0mself\u001b[0m\u001b[0;34m,\u001b[0m \u001b[0mdtype\u001b[0m\u001b[0;34m:\u001b[0m \u001b[0mNpDtype\u001b[0m \u001b[0;34m|\u001b[0m \u001b[0;32mNone\u001b[0m \u001b[0;34m=\u001b[0m \u001b[0;32mNone\u001b[0m\u001b[0;34m)\u001b[0m \u001b[0;34m->\u001b[0m \u001b[0mnp\u001b[0m\u001b[0;34m.\u001b[0m\u001b[0mndarray\u001b[0m\u001b[0;34m:\u001b[0m\u001b[0;34m\u001b[0m\u001b[0;34m\u001b[0m\u001b[0m\n\u001b[0;32m-> 1993\u001b[0;31m         \u001b[0;32mreturn\u001b[0m \u001b[0mnp\u001b[0m\u001b[0;34m.\u001b[0m\u001b[0masarray\u001b[0m\u001b[0;34m(\u001b[0m\u001b[0mself\u001b[0m\u001b[0;34m.\u001b[0m\u001b[0m_values\u001b[0m\u001b[0;34m,\u001b[0m \u001b[0mdtype\u001b[0m\u001b[0;34m=\u001b[0m\u001b[0mdtype\u001b[0m\u001b[0;34m)\u001b[0m\u001b[0;34m\u001b[0m\u001b[0;34m\u001b[0m\u001b[0m\n\u001b[0m\u001b[1;32m   1994\u001b[0m \u001b[0;34m\u001b[0m\u001b[0m\n\u001b[1;32m   1995\u001b[0m     def __array_wrap__(\n",
            "\u001b[0;31mValueError\u001b[0m: could not convert string to float: 'white'"
          ]
        }
      ]
    },
    {
      "cell_type": "markdown",
      "source": [
        "From RFE, the chosen features are:\n",
        "- chlorides\n",
        "- total sulfur dioxide\n",
        "- pH\n",
        "- alcohol"
      ],
      "metadata": {
        "id": "NPC5AOg_bi-n"
      }
    },
    {
      "cell_type": "code",
      "source": [
        "second_run_features = {'chlorides','total sulfur dioxide','pH','alcohol'}"
      ],
      "metadata": {
        "id": "qFBTtGjW3Vtf"
      },
      "execution_count": null,
      "outputs": []
    },
    {
      "cell_type": "markdown",
      "source": [
        "##**Third Run** feature selection using sequential forward feature selection\n",
        "\n",
        "Sequential forward feature selection is like the opposite of recursive feature elimination. Instead of building a model with all features and then removing less important features, this technique starts with the \"best\" feature and builds the model from there.\n",
        "\n",
        "One main difference between this implementation of FFS vs. the implementation of RSE above is also the underlying method. For FFS, I use a Random Forest Classifier to build the model for feature selection."
      ],
      "metadata": {
        "id": "txZpVPKxOy8R"
      }
    },
    {
      "cell_type": "code",
      "source": [
        "# code was used from: https://www.youtube.com/watch?v=POCvLGRLDzM\n",
        "# also consulted the documentation for SequentialFeatureSelector: https://scikit-learn.org/stable/modules/generated/sklearn.feature_selection.SequentialFeatureSelector.html#sklearn.feature_selection.SequentialFeatureSelector\n",
        "import sklearn\n",
        "from sklearn.model_selection import train_test_split\n",
        "from sklearn.ensemble import RandomForestClassifier\n",
        "from sklearn.feature_selection import SequentialFeatureSelector\n",
        "\n",
        "df = small_sample_df.copy()\n",
        "\n",
        "# inputs\n",
        "X = df.drop(columns=[target], axis=1)\n",
        "y = df[target]\n",
        "\n",
        "# train, test split\n",
        "X_train, X_test, y_train, y_test = train_test_split(X,y, test_size = 0.3)\n",
        "X_train.shape\n",
        "\n",
        "# FFS w/ Random Forest\n",
        "sfs = SequentialFeatureSelector(RandomForestClassifier(n_jobs=-1), n_features_to_select=4, direction='forward', cv=5).fit(X_train, y_train)\n"
      ],
      "metadata": {
        "id": "JPv06K4PO4tz"
      },
      "execution_count": null,
      "outputs": []
    },
    {
      "cell_type": "code",
      "source": [
        "print(sfs.get_feature_names_out())"
      ],
      "metadata": {
        "id": "3kt_xg4fSB3d"
      },
      "execution_count": null,
      "outputs": []
    },
    {
      "cell_type": "markdown",
      "source": [
        "###Interpretation\n",
        "Using sequential forward feature selection with a decision tree as the underlying model, the features selected are:\n",
        "- fixed acidity\n",
        "- residual sugar\n",
        "- total sulfur dioxide\n",
        "- density"
      ],
      "metadata": {
        "id": "h344hA0wO44C"
      }
    },
    {
      "cell_type": "code",
      "source": [
        "third_run_features = {'fixed acidity', 'residual sugar', 'total sulfur dioxide', 'density'}"
      ],
      "metadata": {
        "id": "rfOdbcLX3eka"
      },
      "execution_count": null,
      "outputs": []
    },
    {
      "cell_type": "markdown",
      "source": [
        "##Summary and reflection\n",
        "In the previous sections, I chose the following features for each training run.\n",
        "\n",
        "- **First run:** total sulfur dioxide, chlorides, volatile acidity, residual sugar\n",
        "- **Second run:** chlorides, total sulfur dioxide, pH, alcohol\n",
        "- **Third run:** fixed acidity, residual sugar, total sulfur dioxide, density\n",
        "\n",
        "Of these features, some appeared multiple times between selection methods. In order of incidence:\n",
        "- **Appeared across all selections:** total sulfur dioxide\n",
        "- **Appeared across two selections:** chlorides, residual sugar\n",
        "- **Appeared in only one selection:** volatile acidity, pH, alcohol, fixed acidity, density\n",
        "\n",
        "This suggests that 'total sulfur dioxide,' 'chlorides', and 'residual sugar,' have a strong predictive value for the target variable, but that the other variables are sensitive to the underlying model. Remember that for each feature selection run, three different underlying models were used to score the predicive value of a feature. In order, these were: k-nearest neighbors, decision tree, and random forest algorithms.\n",
        "\n",
        "The implication of this seems to be that all sets contain at least one strong predictor (total sulfur dioxide), but that the other variables will be more-or-less useful depending on the underlying model used. For example,"
      ],
      "metadata": {
        "id": "1pGxMxM2O61V"
      }
    },
    {
      "cell_type": "code",
      "source": [
        "print(first_run_features)\n",
        "print(second_run_features)\n",
        "print(third_run_features)"
      ],
      "metadata": {
        "id": "Gh_pg-Em3utD"
      },
      "execution_count": null,
      "outputs": []
    },
    {
      "cell_type": "markdown",
      "source": [
        "#Encoding\n",
        "Each algorithm I am implementing needs to take different data. I have split this section into three subsections, each corresponding to how I am encoding the data for each algorithm. \n",
        "\n",
        "In each section, I also go to the liberty of encoding the data for each run. What that means is that when I finish encoding, I will end up with nine datasets total:\n",
        "- run_one_bayes_df, run_two_bayes_df, run_three_bayes_df\n",
        "- run_one_logistic_df, run_two_logistic_df, run_three_bayes_df\n",
        "- run_one_MLP_df, run_two_MLP_df, run_three_MLP_df\n",
        "\n",
        "Each of these datasets actually contain a subset of the data in raw_df, where:\n",
        "1. I only keep the features I need for each run.\n",
        "2. The data is encoded according to the rules I lay out in this section, which are designed for the specific algorithm I am training."
      ],
      "metadata": {
        "id": "QxW9T-mNJxn5"
      }
    },
    {
      "cell_type": "markdown",
      "source": [
        "###Encoding for Naive Bayes\n",
        "There's a big, big problem with my features: they are all continous! To tackle that problem, I'll:\n",
        "1. Put the data into n equally distributed buckets corresponding to the % of samples in that range. For example, for n=3, values in the first 33% of samples are placed in bucket 1, the next 33% are placed in bucket 2, and the remaining samples are placed in bucket 3.\n",
        "2. Using one-hot-encoding, transform the row into n mutually-exclusive rows with values of either 1 or 0.\n",
        "\n",
        "I should note that point #1 has some hidden assumptions with potential consequences. By splitting the data evenly into n buckets, I am assuming that the target classes are distributed differently enough across those buckets for the condional probabilities to differentiate which target class is most likely within that range.\n",
        "\n",
        "This is a bold assumption. What if, by chance, the data is distributed such that the most dominant target value (red) is most likely across all of the buckets for every feature? Then, the algorithm will be useless because it will always guess that the wine is red.\n",
        "\n",
        "On the other hand: using too many buckets for the data is also a problem. Consider that keeping the data continuous is like having an infinite number of buckets, in which case the conditional probability of any particular point is equal."
      ],
      "metadata": {
        "id": "SADFBUM_O1kK"
      }
    },
    {
      "cell_type": "code",
      "source": [
        " # qcut: https://stackoverflow.com/questions/53963183/how-to-use-kbinsdiscretizer-to-make-continuous-data-into-bins-in-sklearn\n",
        " # get_dummies: https://stackoverflow.com/questions/37292872/how-can-i-one-hot-encode-in-python\n",
        "\n",
        "def encodeForBayes (raw, target, features, n_buckets):\n",
        "  # get a dataframe with the features we care about\n",
        "  df = raw[features].copy()\n",
        "\n",
        "  # use Pandas to replace the values in each dataframe with the quantile they belong to\n",
        "  for column in df:\n",
        "    df[column] = pd.qcut(df[column], q=(n_buckets+1), labels=False)\n",
        "\n",
        "  # expand each column out into mutually exclusive columns\n",
        "  for column in df:\n",
        "    onehot_columns = pd.get_dummies(df[column], prefix=column+' ',prefix_sep='', drop_first=True)\n",
        "    df = pd.concat([df, onehot_columns],axis=1)\n",
        "    df = df.drop(column, axis=1)\n",
        "\n",
        "  # add the target back at the end of the dataframe ... everything have been done inplace, so this is okay\n",
        "  df = pd.concat([raw_df[target],df],axis=1)\n",
        "  #df[target] = raw[target].copy()\n",
        "\n",
        "  return df\n",
        "\n",
        "n=4\n",
        "run_one_bayes_df = encodeForBayes(raw_df, target, first_run_features, n)\n",
        "run_two_bayes_df = encodeForBayes(raw_df, target, second_run_features, n)\n",
        "run_three_bayes_df = encodeForBayes(raw_df, target, third_run_features, n)"
      ],
      "metadata": {
        "id": "jJ_ngZBSc1bP"
      },
      "execution_count": null,
      "outputs": []
    },
    {
      "cell_type": "markdown",
      "source": [
        "# Making cuts for k-fold cross validation\n",
        "###Theory\n",
        "K-fold cross validation is a method used to prevent overfitting. Overfitting occurs when a model performs well on training data, but fails to perform on real data. Through this process, data is split into k groups. Then, the model is trained k times (using a different data fold k for testing). By evaluating the performance of the model on all k runs, one obtains a better understanding on the general health of the model compared to if the model had been trained and tested only once.\n",
        "\n",
        "###Considerations for the the wine dataset\n",
        "\n",
        "\"Randomness\" is a subject worth exploring before I split the data using k-fold cross validation. For some datasets where samples are dependent, randomizing the data would be innapopriate (for example, some data sets where samples are dependent on time). However, the samples in my data are independent, so I want to reflect that in each of the folds I take.\n",
        "\n",
        "This observation might initially seem to contradict the code immediately below, where the data does not appear to be shuffled. This is because when the data was initially read from CSV, it was shuffled using a pseudorandom seed. This approach was chosen so that the work in this notebook would be reproducible. Because the data was shuffled from a seed, that means anybody can shuffle the CSV the same way as was done in this report.\n",
        "\n",
        "###Choice of k\n",
        "For this report, 10-fold cross validation was selected since it is commonly used in data science literature. Examining the impact of taking different folds could be an interesting follow-up analysis, but is outside of the scope of this report.\n",
        "\n",
        "Theory taken from:\n",
        "https://machinelearningmastery.com/k-fold-cross-validation/#:~:text=Cross%2Dvalidation%20is%20a%20resampling,is%20to%20be%20split%20into.\n",
        "\n",
        "https://scikit-learn.org/stable/modules/cross_validation.html\n",
        "\n",
        "https://scikit-learn.org/stable/modules/cross_validation.html#cross-validation-and-model-selection"
      ],
      "metadata": {
        "id": "ZeJxDrpsPHqZ"
      }
    },
    {
      "cell_type": "code",
      "source": [
        "# Guide on KFold: https://www.section.io/engineering-education/how-to-implement-k-fold-cross-validation/\n",
        "# Some code in this section is from: https://www.youtube.com/watch?v=gJo0uNL-5Qw\n",
        "from sklearn.model_selection import KFold\n",
        "\n",
        "# prepare 10 splits\n",
        "kf = KFold(n_splits=10, random_state=None, shuffle=False)"
      ],
      "metadata": {
        "id": "WLfzxIDfeVbg"
      },
      "execution_count": null,
      "outputs": []
    },
    {
      "cell_type": "markdown",
      "source": [
        "Now that the folds have been specified using KFold, the models are detailed below. Finally, in 'Run 1,' 'Run 2,' and 'Run 3' the models are trained applying k-fold. From these runs, statistics about each model are graphed."
      ],
      "metadata": {
        "id": "kPxx0GIMeZ8u"
      }
    },
    {
      "cell_type": "markdown",
      "source": [
        "#The models\n",
        "The algorithms I use to train the models for each run are placed in this section.\n",
        "###Naive Bayes\n"
      ],
      "metadata": {
        "id": "dpFusAzOIzrL"
      }
    },
    {
      "cell_type": "code",
      "source": [
        "# TERMINOLOGY\n",
        "# X_train -> a training dataset with features and target variable\n",
        "# X_test -> a testing dataset with features and target variable\n",
        "# Y -> the name of the target variable; could also be considered a set of possible classes\n",
        "# X -> a set of features\n",
        "# x -> a particular feature\n",
        "# y -> a particular class of the target variable"
      ],
      "metadata": {
        "id": "NtPe7BUrJLYs"
      },
      "execution_count": null,
      "outputs": []
    },
    {
      "cell_type": "code",
      "source": [
        "# implementation using sklearn.naive_bayes.CategoricalNB\n",
        "# documentation: https://scikit-learn.org/stable/modules/generated/sklearn.naive_bayes.MultinomialNB.html\n",
        "from sklearn.naive_bayes import MultinomialNB\n",
        "from sklearn.metrics import confusion_matrix\n",
        "\n",
        "def naive_bayes(X_train, X_test, y_train, y_test):\n",
        "  ##### MODEL\n",
        "  clf = MultinomialNB(fit_prior=True)\n",
        "  clf.fit(X_train, y_train)\n",
        "\n",
        "  ##### DATA ABOUT THE ALGORITHM\n",
        "  y_true = y_test\n",
        "  y_pred = clf.predict(X_test)\n",
        "\n",
        "  print(\"Confusion matrix; real values:\")\n",
        "  print(confusion_matrix(y_true,y_pred))\n",
        "  print('--')\n",
        "  print(\"Confusion matrix; normalized:\")\n",
        "  print(confusion_matrix(y_true,y_pred, normalize='true'))"
      ],
      "metadata": {
        "id": "gfkXGJf7Hw4g"
      },
      "execution_count": null,
      "outputs": []
    },
    {
      "cell_type": "markdown",
      "source": [
        "###Logistic Regression"
      ],
      "metadata": {
        "id": "1HNRPnp4JGWB"
      }
    },
    {
      "cell_type": "code",
      "source": [],
      "metadata": {
        "id": "HOWWWHomJGhj"
      },
      "execution_count": null,
      "outputs": []
    },
    {
      "cell_type": "markdown",
      "source": [
        "###Multilayer Perceptron"
      ],
      "metadata": {
        "id": "eSKDvCVyJGqK"
      }
    },
    {
      "cell_type": "code",
      "source": [],
      "metadata": {
        "id": "V63YqNUlJGxk"
      },
      "execution_count": null,
      "outputs": []
    },
    {
      "cell_type": "markdown",
      "source": [
        "#Run 1: training the models"
      ],
      "metadata": {
        "id": "cHXSKFlMPPQR"
      }
    },
    {
      "cell_type": "code",
      "source": [
        "print(first_run_features)"
      ],
      "metadata": {
        "id": "M2xQ-Lw1JRKI"
      },
      "execution_count": null,
      "outputs": []
    },
    {
      "cell_type": "markdown",
      "source": [
        "###Naive Bayes"
      ],
      "metadata": {
        "id": "Je55X-Dlsxbx"
      }
    },
    {
      "cell_type": "code",
      "source": [
        "# Some code taken from: https://towardsdatascience.com/train-test-split-and-cross-validation-in-python-80b61beca4b6\n",
        "# (specifically to assign X_train, X_test, y_train, y_test appropriately)\n",
        "\n",
        "def naive_bayes_k_fold(df):\n",
        "  iteration = 1\n",
        "  X = np.array(df.drop(columns=target, axis=1).values.tolist())\n",
        "  y = np.array(df[target].values.tolist())\n",
        "\n",
        "  # code for running the K-fold split\n",
        "  for train_index, test_index in kf.split(df):\n",
        "    print(\"############Iteration: \", iteration)\n",
        "    X_train, X_test = X[train_index], X[test_index]\n",
        "    y_train, y_test = y[train_index], y[test_index]\n",
        "    naive_bayes(X_train, X_test, y_train, y_test)\n",
        "    iteration += 1\n",
        "\n",
        "\n",
        "#RUN 1\n",
        "df = run_one_bayes_df\n",
        "naive_bayes_k_fold(df)\n",
        "\n",
        "#NOTE THAT, the confusion matrix is of the form:\n",
        "#[[true-positives false-positives]   \n",
        "#[false-negatives true-negatives]]"
      ],
      "metadata": {
        "id": "kL4Q8I71sz14"
      },
      "execution_count": null,
      "outputs": []
    },
    {
      "cell_type": "markdown",
      "source": [
        "###Logistic regression"
      ],
      "metadata": {
        "id": "6l69Ct8nB8ly"
      }
    },
    {
      "cell_type": "code",
      "source": [],
      "metadata": {
        "id": "NlwQftBYB8vs"
      },
      "execution_count": null,
      "outputs": []
    },
    {
      "cell_type": "markdown",
      "source": [
        "###Multilayer Preceptron"
      ],
      "metadata": {
        "id": "YKrsonZIB85r"
      }
    },
    {
      "cell_type": "code",
      "source": [],
      "metadata": {
        "id": "ubbHy7DcB9BN"
      },
      "execution_count": null,
      "outputs": []
    },
    {
      "cell_type": "markdown",
      "source": [
        "#Run 2: training the models"
      ],
      "metadata": {
        "id": "jFzgEXLEPPYW"
      }
    },
    {
      "cell_type": "code",
      "source": [
        "print(second_run_features)"
      ],
      "metadata": {
        "id": "25Lc01amX694"
      },
      "execution_count": null,
      "outputs": []
    },
    {
      "cell_type": "markdown",
      "source": [
        "###Naive Bayes"
      ],
      "metadata": {
        "id": "dEIVE8zFX7M0"
      }
    },
    {
      "cell_type": "code",
      "source": [
        "#RUN 2\n",
        "df = run_two_bayes_df\n",
        "naive_bayes_k_fold(df)"
      ],
      "metadata": {
        "id": "3TIMoxqQX-Qz"
      },
      "execution_count": null,
      "outputs": []
    },
    {
      "cell_type": "markdown",
      "source": [
        "###Logistic Regression"
      ],
      "metadata": {
        "id": "qCa-rx_pYLyV"
      }
    },
    {
      "cell_type": "code",
      "source": [],
      "metadata": {
        "id": "daS7jeYRYMHR"
      },
      "execution_count": null,
      "outputs": []
    },
    {
      "cell_type": "markdown",
      "source": [
        "###Multilayer Perceptron\n"
      ],
      "metadata": {
        "id": "6IIqoFxNYMVl"
      }
    },
    {
      "cell_type": "code",
      "source": [],
      "metadata": {
        "id": "2UlIGOawYMb0"
      },
      "execution_count": null,
      "outputs": []
    },
    {
      "cell_type": "markdown",
      "source": [
        "#Run 3: training the models"
      ],
      "metadata": {
        "id": "hgqoIkKKPPf6"
      }
    },
    {
      "cell_type": "code",
      "source": [
        "print(third_run_features)"
      ],
      "metadata": {
        "id": "qQb0ttuZYTYB"
      },
      "execution_count": null,
      "outputs": []
    },
    {
      "cell_type": "markdown",
      "source": [
        "###Naive Bayes"
      ],
      "metadata": {
        "id": "aUebPkjeYVJb"
      }
    },
    {
      "cell_type": "code",
      "source": [
        "#RUN 3\n",
        "df = run_three_bayes_df\n",
        "naive_bayes_k_fold(df)"
      ],
      "metadata": {
        "id": "lgI_sv9RYVSL"
      },
      "execution_count": null,
      "outputs": []
    },
    {
      "cell_type": "markdown",
      "source": [
        "###Logistic Regression"
      ],
      "metadata": {
        "id": "OXrgqp5bYVZW"
      }
    },
    {
      "cell_type": "code",
      "source": [],
      "metadata": {
        "id": "0gYh5_34YVeA"
      },
      "execution_count": null,
      "outputs": []
    },
    {
      "cell_type": "markdown",
      "source": [
        "###Multilayer Perceptron"
      ],
      "metadata": {
        "id": "DKriE97hYVku"
      }
    },
    {
      "cell_type": "code",
      "source": [],
      "metadata": {
        "id": "3UCKDAiiYVon"
      },
      "execution_count": null,
      "outputs": []
    },
    {
      "cell_type": "markdown",
      "source": [
        "# References\n",
        "\n",
        "Data source: https://www.kaggle.com/datasets/rajyellow46/wine-quality\n",
        "\n",
        "Feature utility metric reference: https://www.kaggle.com/code/ryanholbrook/mutual-information\n",
        "\n",
        "Categorical variables: https://www.kaggle.com/code/alexisbcook/categorical-variables/tutorial\n",
        "\n",
        "https://www.kaggle.com/code/ryanholbrook/mutual-information\n",
        "\n",
        "(Reference on feature selection: https://scikit-learn.org/stable/modules/feature_selection.html)\n",
        "\n",
        "https://guhanesvar.medium.com/feature-selection-based-on-mutual-information-gain-for-classification-and-regression-d0f86ea5262a\n",
        "\n",
        "Kaggle feature engineering tutorials: https://www.kaggle.com/learn/feature-engineering"
      ],
      "metadata": {
        "id": "afq-GPZV37Ow"
      }
    },
    {
      "cell_type": "markdown",
      "source": [
        "# DISCLOSURE\n",
        "\n",
        "This is the third dataset I selected for this project. Since there may have been influence on this iteration by the work I did on my last two datasets, I have included references to the resources I used in the first iteration of this project under \"Works Cited.\"\n",
        "\n",
        "Iteration 1 is also available on Github: https://github.com/journalWheat/CSI4106Project1-JaredWagner\n",
        "\n",
        "As well as iteration 2: \n",
        "https://github.com/journalWheat/CSI4106-Project1-JaredWagner-WaterPotability"
      ],
      "metadata": {
        "id": "whjSPnQm3qyL"
      }
    }
  ]
}